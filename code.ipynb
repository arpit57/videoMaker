{
 "cells": [
  {
   "cell_type": "code",
   "execution_count": 9,
   "id": "bf17a6bf-2ed6-42a0-9110-861563cd223b",
   "metadata": {},
   "outputs": [],
   "source": [
    "# convert json to csv\n",
    "\n",
    "import json\n",
    "import csv\n",
    "\n",
    "# Open the JSON file and load the data into a list of dictionaries\n",
    "with open(\"quotes.json\", \"r\", encoding=\"utf-8\") as f:\n",
    "    data = json.load(f)[\"quotes\"]\n",
    "\n",
    "\n",
    "# Open the CSV file for writing and write the header row\n",
    "with open(\"quotes.csv\", \"w\", newline=\"\", encoding=\"utf-8\") as f:\n",
    "    writer = csv.DictWriter(f, fieldnames=[\"text\", \"author\"])\n",
    "    writer.writeheader()\n",
    "\n",
    "    # Write each row to the CSV file\n",
    "    for quote in data:\n",
    "        writer.writerow(quote)\n"
   ]
  },
  {
   "cell_type": "code",
   "execution_count": 2,
   "id": "ec00ff5d-8d6a-4351-b470-1cb376442e05",
   "metadata": {},
   "outputs": [],
   "source": [
    "import requests\n",
    "import json\n",
    "import random\n",
    "import pandas as pd"
   ]
  },
  {
   "cell_type": "code",
   "execution_count": 5,
   "id": "95f6962d-75f0-47d1-8656-0e12f0e0fb32",
   "metadata": {},
   "outputs": [],
   "source": [
    "df = pd.read_csv(\"data/quotes.csv\")"
   ]
  },
  {
   "cell_type": "code",
   "execution_count": 6,
   "id": "a099f449-b3d3-4707-99ff-530782df3f60",
   "metadata": {},
   "outputs": [
    {
     "data": {
      "text/html": [
       "<div>\n",
       "<style scoped>\n",
       "    .dataframe tbody tr th:only-of-type {\n",
       "        vertical-align: middle;\n",
       "    }\n",
       "\n",
       "    .dataframe tbody tr th {\n",
       "        vertical-align: top;\n",
       "    }\n",
       "\n",
       "    .dataframe thead th {\n",
       "        text-align: right;\n",
       "    }\n",
       "</style>\n",
       "<table border=\"1\" class=\"dataframe\">\n",
       "  <thead>\n",
       "    <tr style=\"text-align: right;\">\n",
       "      <th></th>\n",
       "      <th>text</th>\n",
       "      <th>author</th>\n",
       "    </tr>\n",
       "  </thead>\n",
       "  <tbody>\n",
       "    <tr>\n",
       "      <th>1241</th>\n",
       "      <td>Retire into thyself. The rational principle wh...</td>\n",
       "      <td>Marcus Aurelius</td>\n",
       "    </tr>\n",
       "    <tr>\n",
       "      <th>1668</th>\n",
       "      <td>Do, soul, do; abuse and contemn thyself; yet a...</td>\n",
       "      <td>Marcus Aurelius</td>\n",
       "    </tr>\n",
       "    <tr>\n",
       "      <th>1163</th>\n",
       "      <td>Live out your life in truth and justice, toler...</td>\n",
       "      <td>Marcus Aurelius</td>\n",
       "    </tr>\n",
       "    <tr>\n",
       "      <th>1033</th>\n",
       "      <td>Most men ebb and flow in wretchedness between ...</td>\n",
       "      <td>Seneca</td>\n",
       "    </tr>\n",
       "    <tr>\n",
       "      <th>625</th>\n",
       "      <td>Peace you can claim for yourself without being...</td>\n",
       "      <td>Seneca</td>\n",
       "    </tr>\n",
       "    <tr>\n",
       "      <th>1543</th>\n",
       "      <td>He who has seen the present has seen everythin...</td>\n",
       "      <td>Marcus Aurelius</td>\n",
       "    </tr>\n",
       "    <tr>\n",
       "      <th>388</th>\n",
       "      <td>It is of course better to know useless things ...</td>\n",
       "      <td>Seneca</td>\n",
       "    </tr>\n",
       "    <tr>\n",
       "      <th>1761</th>\n",
       "      <td>Either teach them better if it be in thy power...</td>\n",
       "      <td>Marcus Aurelius</td>\n",
       "    </tr>\n",
       "    <tr>\n",
       "      <th>1001</th>\n",
       "      <td>To know how many are jealous of you, count you...</td>\n",
       "      <td>Seneca</td>\n",
       "    </tr>\n",
       "    <tr>\n",
       "      <th>681</th>\n",
       "      <td>If you wish to make Pythocles an old man, fill...</td>\n",
       "      <td>Seneca</td>\n",
       "    </tr>\n",
       "  </tbody>\n",
       "</table>\n",
       "</div>"
      ],
      "text/plain": [
       "                                                   text           author\n",
       "1241  Retire into thyself. The rational principle wh...  Marcus Aurelius\n",
       "1668  Do, soul, do; abuse and contemn thyself; yet a...  Marcus Aurelius\n",
       "1163  Live out your life in truth and justice, toler...  Marcus Aurelius\n",
       "1033  Most men ebb and flow in wretchedness between ...           Seneca\n",
       "625   Peace you can claim for yourself without being...           Seneca\n",
       "1543  He who has seen the present has seen everythin...  Marcus Aurelius\n",
       "388   It is of course better to know useless things ...           Seneca\n",
       "1761  Either teach them better if it be in thy power...  Marcus Aurelius\n",
       "1001  To know how many are jealous of you, count you...           Seneca\n",
       "681   If you wish to make Pythocles an old man, fill...           Seneca"
      ]
     },
     "execution_count": 6,
     "metadata": {},
     "output_type": "execute_result"
    }
   ],
   "source": [
    "df.sample(10)"
   ]
  },
  {
   "cell_type": "code",
   "execution_count": 7,
   "id": "2a8b4a9d-c68d-4386-abc0-7a05f281dca4",
   "metadata": {},
   "outputs": [
    {
     "data": {
      "text/plain": [
       "(1774, 2)"
      ]
     },
     "execution_count": 7,
     "metadata": {},
     "output_type": "execute_result"
    }
   ],
   "source": [
    "df.shape"
   ]
  },
  {
   "cell_type": "code",
   "execution_count": 8,
   "id": "4f6f5205-f807-48f1-8286-2023402d5839",
   "metadata": {},
   "outputs": [
    {
     "data": {
      "text/html": [
       "<div>\n",
       "<style scoped>\n",
       "    .dataframe tbody tr th:only-of-type {\n",
       "        vertical-align: middle;\n",
       "    }\n",
       "\n",
       "    .dataframe tbody tr th {\n",
       "        vertical-align: top;\n",
       "    }\n",
       "\n",
       "    .dataframe thead th {\n",
       "        text-align: right;\n",
       "    }\n",
       "</style>\n",
       "<table border=\"1\" class=\"dataframe\">\n",
       "  <thead>\n",
       "    <tr style=\"text-align: right;\">\n",
       "      <th></th>\n",
       "      <th>text</th>\n",
       "      <th>author</th>\n",
       "    </tr>\n",
       "  </thead>\n",
       "  <tbody>\n",
       "    <tr>\n",
       "      <th>count</th>\n",
       "      <td>1774</td>\n",
       "      <td>1774</td>\n",
       "    </tr>\n",
       "    <tr>\n",
       "      <th>unique</th>\n",
       "      <td>1726</td>\n",
       "      <td>4</td>\n",
       "    </tr>\n",
       "    <tr>\n",
       "      <th>top</th>\n",
       "      <td>While we are postponing, life speeds by.</td>\n",
       "      <td>Seneca</td>\n",
       "    </tr>\n",
       "    <tr>\n",
       "      <th>freq</th>\n",
       "      <td>3</td>\n",
       "      <td>768</td>\n",
       "    </tr>\n",
       "  </tbody>\n",
       "</table>\n",
       "</div>"
      ],
      "text/plain": [
       "                                            text  author\n",
       "count                                       1774    1774\n",
       "unique                                      1726       4\n",
       "top     While we are postponing, life speeds by.  Seneca\n",
       "freq                                           3     768"
      ]
     },
     "execution_count": 8,
     "metadata": {},
     "output_type": "execute_result"
    }
   ],
   "source": [
    "df.describe()"
   ]
  },
  {
   "cell_type": "code",
   "execution_count": 9,
   "id": "e3520a5f-6beb-4fba-ac1b-6d1977d74363",
   "metadata": {},
   "outputs": [],
   "source": [
    "df.drop_duplicates(inplace=True)"
   ]
  },
  {
   "cell_type": "code",
   "execution_count": 10,
   "id": "242e116a-3476-48b5-99c6-d0adb685c69b",
   "metadata": {},
   "outputs": [
    {
     "data": {
      "text/plain": [
       "author\n",
       "Seneca             747\n",
       "Marcus Aurelius    681\n",
       "Epictetus          302\n",
       "Cleanthes            1\n",
       "Name: count, dtype: int64"
      ]
     },
     "execution_count": 10,
     "metadata": {},
     "output_type": "execute_result"
    }
   ],
   "source": [
    "df[\"author\"].value_counts()"
   ]
  },
  {
   "cell_type": "code",
   "execution_count": 11,
   "id": "9eb29e18-4ccf-4e51-aa93-4e3d4dda75e9",
   "metadata": {},
   "outputs": [
    {
     "data": {
      "text/html": [
       "<div>\n",
       "<style scoped>\n",
       "    .dataframe tbody tr th:only-of-type {\n",
       "        vertical-align: middle;\n",
       "    }\n",
       "\n",
       "    .dataframe tbody tr th {\n",
       "        vertical-align: top;\n",
       "    }\n",
       "\n",
       "    .dataframe thead th {\n",
       "        text-align: right;\n",
       "    }\n",
       "</style>\n",
       "<table border=\"1\" class=\"dataframe\">\n",
       "  <thead>\n",
       "    <tr style=\"text-align: right;\">\n",
       "      <th></th>\n",
       "      <th>text</th>\n",
       "      <th>author</th>\n",
       "    </tr>\n",
       "  </thead>\n",
       "  <tbody>\n",
       "    <tr>\n",
       "      <th>0</th>\n",
       "      <td>If anyone tells you that a certain person spea...</td>\n",
       "      <td>Epictetus</td>\n",
       "    </tr>\n",
       "    <tr>\n",
       "      <th>1</th>\n",
       "      <td>Wealth consists not in having great possession...</td>\n",
       "      <td>Epictetus</td>\n",
       "    </tr>\n",
       "    <tr>\n",
       "      <th>2</th>\n",
       "      <td>There is only one way to happiness and that is...</td>\n",
       "      <td>Epictetus</td>\n",
       "    </tr>\n",
       "    <tr>\n",
       "      <th>3</th>\n",
       "      <td>Man is not worried by real problems so much as...</td>\n",
       "      <td>Epictetus</td>\n",
       "    </tr>\n",
       "    <tr>\n",
       "      <th>4</th>\n",
       "      <td>First say to yourself what you would be; and t...</td>\n",
       "      <td>Epictetus</td>\n",
       "    </tr>\n",
       "    <tr>\n",
       "      <th>...</th>\n",
       "      <td>...</td>\n",
       "      <td>...</td>\n",
       "    </tr>\n",
       "    <tr>\n",
       "      <th>1768</th>\n",
       "      <td>It is royal to do good and to be abused.</td>\n",
       "      <td>Marcus Aurelius</td>\n",
       "    </tr>\n",
       "    <tr>\n",
       "      <th>1769</th>\n",
       "      <td>Things?—I was once a fortunate man, but I lost...</td>\n",
       "      <td>Marcus Aurelius</td>\n",
       "    </tr>\n",
       "    <tr>\n",
       "      <th>1770</th>\n",
       "      <td>Even chance is not divorced from nature, from ...</td>\n",
       "      <td>Marcus Aurelius</td>\n",
       "    </tr>\n",
       "    <tr>\n",
       "      <th>1771</th>\n",
       "      <td>Be not either a man of many words, or busy abo...</td>\n",
       "      <td>Marcus Aurelius</td>\n",
       "    </tr>\n",
       "    <tr>\n",
       "      <th>1772</th>\n",
       "      <td>But death and life, success and failure, pain ...</td>\n",
       "      <td>Marcus Aurelius</td>\n",
       "    </tr>\n",
       "  </tbody>\n",
       "</table>\n",
       "<p>1730 rows × 2 columns</p>\n",
       "</div>"
      ],
      "text/plain": [
       "                                                   text           author\n",
       "0     If anyone tells you that a certain person spea...        Epictetus\n",
       "1     Wealth consists not in having great possession...        Epictetus\n",
       "2     There is only one way to happiness and that is...        Epictetus\n",
       "3     Man is not worried by real problems so much as...        Epictetus\n",
       "4     First say to yourself what you would be; and t...        Epictetus\n",
       "...                                                 ...              ...\n",
       "1768           It is royal to do good and to be abused.  Marcus Aurelius\n",
       "1769  Things?—I was once a fortunate man, but I lost...  Marcus Aurelius\n",
       "1770  Even chance is not divorced from nature, from ...  Marcus Aurelius\n",
       "1771  Be not either a man of many words, or busy abo...  Marcus Aurelius\n",
       "1772  But death and life, success and failure, pain ...  Marcus Aurelius\n",
       "\n",
       "[1730 rows x 2 columns]"
      ]
     },
     "execution_count": 11,
     "metadata": {},
     "output_type": "execute_result"
    }
   ],
   "source": [
    "df = df[df[\"author\"] != \"Cleanthes\"]\n",
    "# df[\"author\"].value_counts()\n",
    "df"
   ]
  },
  {
   "cell_type": "code",
   "execution_count": 12,
   "id": "9affd1e5-9765-4a8e-9e53-9ac8d93dbec1",
   "metadata": {},
   "outputs": [],
   "source": [
    "df.to_csv('cleanData.csv', index=False)\n"
   ]
  },
  {
   "cell_type": "code",
   "execution_count": 13,
   "id": "b44e47d1-83e3-4329-a8e1-8bf652614c1a",
   "metadata": {},
   "outputs": [],
   "source": [
    "randomRecord = df.sample()\n",
    "text_value = randomRecord['text'].iloc[0]\n",
    "author_value = randomRecord['author'].iloc[0]"
   ]
  },
  {
   "cell_type": "code",
   "execution_count": 14,
   "id": "8173aa14-7fa7-49c6-9fc7-3a5caa2a3a27",
   "metadata": {},
   "outputs": [
    {
     "data": {
      "text/plain": [
       "'Restless people often pretend to be calm.'"
      ]
     },
     "execution_count": 14,
     "metadata": {},
     "output_type": "execute_result"
    }
   ],
   "source": [
    "text_value"
   ]
  },
  {
   "cell_type": "code",
   "execution_count": 15,
   "id": "5238b52f-581e-4d9e-8ea2-09cad1159dbb",
   "metadata": {},
   "outputs": [
    {
     "data": {
      "text/plain": [
       "'Seneca'"
      ]
     },
     "execution_count": 15,
     "metadata": {},
     "output_type": "execute_result"
    }
   ],
   "source": [
    "author_value"
   ]
  },
  {
   "cell_type": "code",
   "execution_count": 16,
   "id": "aac85666-7275-4a4c-879f-559eaf7e64f4",
   "metadata": {},
   "outputs": [
    {
     "data": {
      "text/plain": [
       "41"
      ]
     },
     "execution_count": 16,
     "metadata": {},
     "output_type": "execute_result"
    }
   ],
   "source": [
    "len(text_value)"
   ]
  },
  {
   "cell_type": "code",
   "execution_count": 17,
   "id": "edffa8be-09b0-4290-a97c-2d99fdc69069",
   "metadata": {},
   "outputs": [],
   "source": [
    "def break_text(text):\n",
    "    words = text.split()\n",
    "    n = len(words)\n",
    "    lines = []\n",
    "    line = \"\"\n",
    "    for i, word in enumerate(words):\n",
    "        if len(line) + len(word) > 30:\n",
    "            lines.append(line.strip())\n",
    "            line = \"\"\n",
    "        line += word + \" \"\n",
    "        if i == n-1:\n",
    "            lines.append(line.strip())\n",
    "    return \"\\n\".join(lines)"
   ]
  },
  {
   "cell_type": "code",
   "execution_count": 19,
   "id": "621f2a69-e5cb-4ac8-ac5b-53222afc6058",
   "metadata": {},
   "outputs": [
    {
     "data": {
      "text/plain": [
       "5"
      ]
     },
     "execution_count": 19,
     "metadata": {},
     "output_type": "execute_result"
    }
   ],
   "source": [
    "import math\n",
    "\n",
    "def get_reading_time(text):\n",
    "    # The average reading speed of an adult is 200 to 300 words per minute\n",
    "    # We'll use 250 words per minute for our calculation\n",
    "    words_per_minute = 100\n",
    "    words = text.split()\n",
    "    num_words = len(words)\n",
    "    reading_time_minutes = num_words / words_per_minute\n",
    "    reading_time_seconds = math.ceil(reading_time_minutes * 60)\n",
    "    return reading_time_seconds\n",
    "\n",
    "get_reading_time(text_value)"
   ]
  },
  {
   "cell_type": "code",
   "execution_count": 20,
   "id": "ee6521f4-a4bb-407e-98fe-9e537f32a920",
   "metadata": {},
   "outputs": [
    {
     "name": "stdout",
     "output_type": "stream",
     "text": [
      "musicFinal/Haunted Forest - TrackTribe.mp3\n"
     ]
    }
   ],
   "source": [
    "import os\n",
    "import random\n",
    "\n",
    "# Set the path to the folder containing the MP3 files\n",
    "folder_path = \"musicFinal/\"\n",
    "\n",
    "# Get a list of all MP3 files in the folder\n",
    "mp3_files = [os.path.join(folder_path, file) for file in os.listdir(folder_path) if file.endswith(\".mp3\")]\n",
    "\n",
    "# Select a random MP3 file from the list\n",
    "audio_path = random.choice(mp3_files)\n",
    "\n",
    "print(audio_path)\n"
   ]
  },
  {
   "cell_type": "code",
   "execution_count": 21,
   "id": "346d948a-0380-4881-ac4e-d02032848973",
   "metadata": {},
   "outputs": [
    {
     "name": "stdout",
     "output_type": "stream",
     "text": [
      "photos/senecaFinal.jpeg\n"
     ]
    }
   ],
   "source": [
    "# Set the file paths\n",
    "if author_value == \"Epictetus\":\n",
    "    period = \"55 AD - 135 AD\"\n",
    "    image_path = \"photos/epictetusFinal.jpeg\"\n",
    "elif author_value == \"Seneca\":\n",
    "    period = \"4 BC - 65 AD\"\n",
    "    image_path = \"photos/senecaFinal.jpeg\"\n",
    "else:\n",
    "    period = \"121 AD - 180 AD\"\n",
    "    image_path = \"photos/marcusFinal.jpeg\"\n",
    "    \n",
    "print(image_path)"
   ]
  },
  {
   "cell_type": "code",
   "execution_count": 22,
   "id": "14ad17bf-3327-4c8a-a6b3-251cfcb5fbc7",
   "metadata": {},
   "outputs": [],
   "source": [
    "from moviepy.editor import *\n",
    "output_path = \"output/output.mp4\"\n",
    "\n",
    "# Load the image file\n",
    "image_clip = ImageClip(image_path).set_duration(get_reading_time(text_value)).set_fps(24)\n",
    "\n",
    "# Lower the brightness of the image\n",
    "image_clip = image_clip.fx(vfx.colorx, 0.7)\n",
    "\n",
    "# Load the audio file and set its duration to match the video\n",
    "audio_clip = AudioFileClip(audio_path).set_duration(image_clip.duration).audio_fadeout(1.0)\n",
    "\n",
    "# Set the audio of the video\n",
    "video_clip = image_clip.set_audio(audio_clip)\n",
    "\n",
    "# Create the text clip and set its position and duration\n",
    "fontsize = 130\n",
    "quote_clip = TextClip(break_text(text_value), fontsize=fontsize, color='white', bg_color='transparent', align='center', stroke_color='black', stroke_width=4)\n",
    "quote_clip = quote_clip.set_pos('center').set_duration(image_clip.duration)\n",
    "\n",
    "# Add bold text clip below the first text clip\n",
    "author_clip = TextClip(author_value, fontsize=fontsize+70, color='white', bg_color='transparent', font='Helvetica-BoldItalic', stroke_color='black', stroke_width=6)\n",
    "author_clip = author_clip.set_pos(('center', 2400)).set_duration(image_clip.duration)\n",
    "\n",
    "#Add period text clip below author text clip\n",
    "period_clip = TextClip(period, fontsize=fontsize-50, color='white', bg_color='transparent', stroke_color='black', stroke_width=2)\n",
    "period_clip = period_clip.set_pos(('center', 2650)).set_duration(image_clip.duration)\n",
    "\n",
    "# Composite the text clip onto the video clip\n",
    "video_clip = CompositeVideoClip([video_clip, quote_clip, author_clip, period_clip])\n",
    "\n",
    "# Save the video to output folder\n",
    "# video_clip.write_videofile(output_path, fps=24, codec=\"libx264\")\n"
   ]
  },
  {
   "cell_type": "code",
   "execution_count": 23,
   "id": "32a5dc42-6703-46c5-995b-fe2ce53f6edb",
   "metadata": {},
   "outputs": [
    {
     "name": "stdout",
     "output_type": "stream",
     "text": [
      "Please visit this URL to authorize this application: https://accounts.google.com/o/oauth2/auth?response_type=code&client_id=693698111836-vadh7g9rnteeu2g0m8koel7qpmhe2462.apps.googleusercontent.com&redirect_uri=http%3A%2F%2Flocalhost%3A53982%2F&scope=https%3A%2F%2Fwww.googleapis.com%2Fauth%2Fyoutube.upload&state=FZAjDshHaojV2mkmbFOcdYv3nD5lBT&access_type=offline\n"
     ]
    },
    {
     "ename": "TypeError",
     "evalue": "expected str, bytes or os.PathLike object, not _io.BytesIO",
     "output_type": "error",
     "traceback": [
      "\u001b[1;31m---------------------------------------------------------------------------\u001b[0m",
      "\u001b[1;31mTypeError\u001b[0m                                 Traceback (most recent call last)",
      "Cell \u001b[1;32mIn[23], line 46\u001b[0m\n\u001b[0;32m     43\u001b[0m description \u001b[38;5;241m=\u001b[39m \u001b[38;5;124m\"\u001b[39m\u001b[38;5;124mStoicism promotes emotional resilience by teaching us to focus on what we can control, and accept what we cannot, leading to inner peace and clarity. #Shorts\u001b[39m\u001b[38;5;124m\"\u001b[39m\n\u001b[0;32m     44\u001b[0m tags \u001b[38;5;241m=\u001b[39m [\u001b[38;5;124m\"\u001b[39m\u001b[38;5;124mShorts\u001b[39m\u001b[38;5;124m\"\u001b[39m, \u001b[38;5;124m\"\u001b[39m\u001b[38;5;124mStoicism\u001b[39m\u001b[38;5;124m\"\u001b[39m]\n\u001b[1;32m---> 46\u001b[0m \u001b[43mupload_to_youtube\u001b[49m\u001b[43m(\u001b[49m\u001b[43mvideo_clip\u001b[49m\u001b[43m,\u001b[49m\u001b[43m \u001b[49m\u001b[43mtitle\u001b[49m\u001b[43m,\u001b[49m\u001b[43m \u001b[49m\u001b[43mdescription\u001b[49m\u001b[43m,\u001b[49m\u001b[43m \u001b[49m\u001b[43mtags\u001b[49m\u001b[43m)\u001b[49m\n",
      "Cell \u001b[1;32mIn[23], line 18\u001b[0m, in \u001b[0;36mupload_to_youtube\u001b[1;34m(video_clip, title, description, tags)\u001b[0m\n\u001b[0;32m     16\u001b[0m \u001b[38;5;66;03m# Convert video clip to bytes\u001b[39;00m\n\u001b[0;32m     17\u001b[0m video_bytes \u001b[38;5;241m=\u001b[39m io\u001b[38;5;241m.\u001b[39mBytesIO()\n\u001b[1;32m---> 18\u001b[0m \u001b[43mvideo_clip\u001b[49m\u001b[38;5;241;43m.\u001b[39;49m\u001b[43mwrite_videofile\u001b[49m\u001b[43m(\u001b[49m\u001b[43mvideo_bytes\u001b[49m\u001b[43m,\u001b[49m\u001b[43m \u001b[49m\u001b[43mfps\u001b[49m\u001b[38;5;241;43m=\u001b[39;49m\u001b[38;5;241;43m24\u001b[39;49m\u001b[43m,\u001b[49m\u001b[43m \u001b[49m\u001b[43mcodec\u001b[49m\u001b[38;5;241;43m=\u001b[39;49m\u001b[38;5;124;43m\"\u001b[39;49m\u001b[38;5;124;43mlibx264\u001b[39;49m\u001b[38;5;124;43m\"\u001b[39;49m\u001b[43m)\u001b[49m\n\u001b[0;32m     19\u001b[0m video_bytes\u001b[38;5;241m.\u001b[39mseek(\u001b[38;5;241m0\u001b[39m)\n\u001b[0;32m     21\u001b[0m \u001b[38;5;66;03m# Upload the video\u001b[39;00m\n",
      "File \u001b[1;32m<decorator-gen-73>:2\u001b[0m, in \u001b[0;36mwrite_videofile\u001b[1;34m(self, filename, fps, codec, bitrate, audio, audio_fps, preset, audio_nbytes, audio_codec, audio_bitrate, audio_bufsize, temp_audiofile, rewrite_audio, remove_temp, write_logfile, verbose, threads, ffmpeg_params, logger)\u001b[0m\n",
      "File \u001b[1;32m~\\anaconda3\\envs\\videoMaker\\lib\\site-packages\\moviepy\\decorators.py:54\u001b[0m, in \u001b[0;36mrequires_duration\u001b[1;34m(f, clip, *a, **k)\u001b[0m\n\u001b[0;32m     52\u001b[0m     \u001b[38;5;28;01mraise\u001b[39;00m \u001b[38;5;167;01mValueError\u001b[39;00m(\u001b[38;5;124m\"\u001b[39m\u001b[38;5;124mAttribute \u001b[39m\u001b[38;5;124m'\u001b[39m\u001b[38;5;124mduration\u001b[39m\u001b[38;5;124m'\u001b[39m\u001b[38;5;124m not set\u001b[39m\u001b[38;5;124m\"\u001b[39m)\n\u001b[0;32m     53\u001b[0m \u001b[38;5;28;01melse\u001b[39;00m:\n\u001b[1;32m---> 54\u001b[0m     \u001b[38;5;28;01mreturn\u001b[39;00m \u001b[43mf\u001b[49m\u001b[43m(\u001b[49m\u001b[43mclip\u001b[49m\u001b[43m,\u001b[49m\u001b[43m \u001b[49m\u001b[38;5;241;43m*\u001b[39;49m\u001b[43ma\u001b[49m\u001b[43m,\u001b[49m\u001b[43m \u001b[49m\u001b[38;5;241;43m*\u001b[39;49m\u001b[38;5;241;43m*\u001b[39;49m\u001b[43mk\u001b[49m\u001b[43m)\u001b[49m\n",
      "File \u001b[1;32m<decorator-gen-72>:2\u001b[0m, in \u001b[0;36mwrite_videofile\u001b[1;34m(self, filename, fps, codec, bitrate, audio, audio_fps, preset, audio_nbytes, audio_codec, audio_bitrate, audio_bufsize, temp_audiofile, rewrite_audio, remove_temp, write_logfile, verbose, threads, ffmpeg_params, logger)\u001b[0m\n",
      "File \u001b[1;32m~\\anaconda3\\envs\\videoMaker\\lib\\site-packages\\moviepy\\decorators.py:135\u001b[0m, in \u001b[0;36muse_clip_fps_by_default\u001b[1;34m(f, clip, *a, **k)\u001b[0m\n\u001b[0;32m    130\u001b[0m new_a \u001b[38;5;241m=\u001b[39m [fun(arg) \u001b[38;5;28;01mif\u001b[39;00m (name\u001b[38;5;241m==\u001b[39m\u001b[38;5;124m'\u001b[39m\u001b[38;5;124mfps\u001b[39m\u001b[38;5;124m'\u001b[39m) \u001b[38;5;28;01melse\u001b[39;00m arg\n\u001b[0;32m    131\u001b[0m          \u001b[38;5;28;01mfor\u001b[39;00m (arg, name) \u001b[38;5;129;01min\u001b[39;00m \u001b[38;5;28mzip\u001b[39m(a, names)]\n\u001b[0;32m    132\u001b[0m new_kw \u001b[38;5;241m=\u001b[39m {k: fun(v) \u001b[38;5;28;01mif\u001b[39;00m k\u001b[38;5;241m==\u001b[39m\u001b[38;5;124m'\u001b[39m\u001b[38;5;124mfps\u001b[39m\u001b[38;5;124m'\u001b[39m \u001b[38;5;28;01melse\u001b[39;00m v\n\u001b[0;32m    133\u001b[0m          \u001b[38;5;28;01mfor\u001b[39;00m (k,v) \u001b[38;5;129;01min\u001b[39;00m k\u001b[38;5;241m.\u001b[39mitems()}\n\u001b[1;32m--> 135\u001b[0m \u001b[38;5;28;01mreturn\u001b[39;00m \u001b[43mf\u001b[49m\u001b[43m(\u001b[49m\u001b[43mclip\u001b[49m\u001b[43m,\u001b[49m\u001b[43m \u001b[49m\u001b[38;5;241;43m*\u001b[39;49m\u001b[43mnew_a\u001b[49m\u001b[43m,\u001b[49m\u001b[43m \u001b[49m\u001b[38;5;241;43m*\u001b[39;49m\u001b[38;5;241;43m*\u001b[39;49m\u001b[43mnew_kw\u001b[49m\u001b[43m)\u001b[49m\n",
      "File \u001b[1;32m<decorator-gen-71>:2\u001b[0m, in \u001b[0;36mwrite_videofile\u001b[1;34m(self, filename, fps, codec, bitrate, audio, audio_fps, preset, audio_nbytes, audio_codec, audio_bitrate, audio_bufsize, temp_audiofile, rewrite_audio, remove_temp, write_logfile, verbose, threads, ffmpeg_params, logger)\u001b[0m\n",
      "File \u001b[1;32m~\\anaconda3\\envs\\videoMaker\\lib\\site-packages\\moviepy\\decorators.py:22\u001b[0m, in \u001b[0;36mconvert_masks_to_RGB\u001b[1;34m(f, clip, *a, **k)\u001b[0m\n\u001b[0;32m     20\u001b[0m \u001b[38;5;28;01mif\u001b[39;00m clip\u001b[38;5;241m.\u001b[39mismask:\n\u001b[0;32m     21\u001b[0m     clip \u001b[38;5;241m=\u001b[39m clip\u001b[38;5;241m.\u001b[39mto_RGB()\n\u001b[1;32m---> 22\u001b[0m \u001b[38;5;28;01mreturn\u001b[39;00m \u001b[43mf\u001b[49m\u001b[43m(\u001b[49m\u001b[43mclip\u001b[49m\u001b[43m,\u001b[49m\u001b[43m \u001b[49m\u001b[38;5;241;43m*\u001b[39;49m\u001b[43ma\u001b[49m\u001b[43m,\u001b[49m\u001b[43m \u001b[49m\u001b[38;5;241;43m*\u001b[39;49m\u001b[38;5;241;43m*\u001b[39;49m\u001b[43mk\u001b[49m\u001b[43m)\u001b[49m\n",
      "File \u001b[1;32m~\\anaconda3\\envs\\videoMaker\\lib\\site-packages\\moviepy\\video\\VideoClip.py:255\u001b[0m, in \u001b[0;36mVideoClip.write_videofile\u001b[1;34m(self, filename, fps, codec, bitrate, audio, audio_fps, preset, audio_nbytes, audio_codec, audio_bitrate, audio_bufsize, temp_audiofile, rewrite_audio, remove_temp, write_logfile, verbose, threads, ffmpeg_params, logger)\u001b[0m\n\u001b[0;32m    131\u001b[0m \u001b[38;5;129m@requires_duration\u001b[39m\n\u001b[0;32m    132\u001b[0m \u001b[38;5;129m@use_clip_fps_by_default\u001b[39m\n\u001b[0;32m    133\u001b[0m \u001b[38;5;129m@convert_masks_to_RGB\u001b[39m\n\u001b[1;32m   (...)\u001b[0m\n\u001b[0;32m    142\u001b[0m                     threads\u001b[38;5;241m=\u001b[39m\u001b[38;5;28;01mNone\u001b[39;00m, ffmpeg_params\u001b[38;5;241m=\u001b[39m\u001b[38;5;28;01mNone\u001b[39;00m,\n\u001b[0;32m    143\u001b[0m                     logger\u001b[38;5;241m=\u001b[39m\u001b[38;5;124m'\u001b[39m\u001b[38;5;124mbar\u001b[39m\u001b[38;5;124m'\u001b[39m):\n\u001b[0;32m    144\u001b[0m \u001b[38;5;250m    \u001b[39m\u001b[38;5;124;03m\"\"\"Write the clip to a videofile.\u001b[39;00m\n\u001b[0;32m    145\u001b[0m \n\u001b[0;32m    146\u001b[0m \u001b[38;5;124;03m    Parameters\u001b[39;00m\n\u001b[1;32m   (...)\u001b[0m\n\u001b[0;32m    253\u001b[0m \n\u001b[0;32m    254\u001b[0m \u001b[38;5;124;03m    \"\"\"\u001b[39;00m\n\u001b[1;32m--> 255\u001b[0m     name, ext \u001b[38;5;241m=\u001b[39m os\u001b[38;5;241m.\u001b[39mpath\u001b[38;5;241m.\u001b[39msplitext(\u001b[43mos\u001b[49m\u001b[38;5;241;43m.\u001b[39;49m\u001b[43mpath\u001b[49m\u001b[38;5;241;43m.\u001b[39;49m\u001b[43mbasename\u001b[49m\u001b[43m(\u001b[49m\u001b[43mfilename\u001b[49m\u001b[43m)\u001b[49m)\n\u001b[0;32m    256\u001b[0m     ext \u001b[38;5;241m=\u001b[39m ext[\u001b[38;5;241m1\u001b[39m:]\u001b[38;5;241m.\u001b[39mlower()\n\u001b[0;32m    257\u001b[0m     logger \u001b[38;5;241m=\u001b[39m proglog\u001b[38;5;241m.\u001b[39mdefault_bar_logger(logger)\n",
      "File \u001b[1;32m~\\anaconda3\\envs\\videoMaker\\lib\\ntpath.py:216\u001b[0m, in \u001b[0;36mbasename\u001b[1;34m(p)\u001b[0m\n\u001b[0;32m    214\u001b[0m \u001b[38;5;28;01mdef\u001b[39;00m \u001b[38;5;21mbasename\u001b[39m(p):\n\u001b[0;32m    215\u001b[0m \u001b[38;5;250m    \u001b[39m\u001b[38;5;124;03m\"\"\"Returns the final component of a pathname\"\"\"\u001b[39;00m\n\u001b[1;32m--> 216\u001b[0m     \u001b[38;5;28;01mreturn\u001b[39;00m \u001b[43msplit\u001b[49m\u001b[43m(\u001b[49m\u001b[43mp\u001b[49m\u001b[43m)\u001b[49m[\u001b[38;5;241m1\u001b[39m]\n",
      "File \u001b[1;32m~\\anaconda3\\envs\\videoMaker\\lib\\ntpath.py:185\u001b[0m, in \u001b[0;36msplit\u001b[1;34m(p)\u001b[0m\n\u001b[0;32m    180\u001b[0m \u001b[38;5;28;01mdef\u001b[39;00m \u001b[38;5;21msplit\u001b[39m(p):\n\u001b[0;32m    181\u001b[0m \u001b[38;5;250m    \u001b[39m\u001b[38;5;124;03m\"\"\"Split a pathname.\u001b[39;00m\n\u001b[0;32m    182\u001b[0m \n\u001b[0;32m    183\u001b[0m \u001b[38;5;124;03m    Return tuple (head, tail) where tail is everything after the final slash.\u001b[39;00m\n\u001b[0;32m    184\u001b[0m \u001b[38;5;124;03m    Either part may be empty.\"\"\"\u001b[39;00m\n\u001b[1;32m--> 185\u001b[0m     p \u001b[38;5;241m=\u001b[39m \u001b[43mos\u001b[49m\u001b[38;5;241;43m.\u001b[39;49m\u001b[43mfspath\u001b[49m\u001b[43m(\u001b[49m\u001b[43mp\u001b[49m\u001b[43m)\u001b[49m\n\u001b[0;32m    186\u001b[0m     seps \u001b[38;5;241m=\u001b[39m _get_bothseps(p)\n\u001b[0;32m    187\u001b[0m     d, p \u001b[38;5;241m=\u001b[39m splitdrive(p)\n",
      "\u001b[1;31mTypeError\u001b[0m: expected str, bytes or os.PathLike object, not _io.BytesIO"
     ]
    }
   ],
   "source": [
    "import os\n",
    "import google_auth_oauthlib.flow\n",
    "import googleapiclient.discovery\n",
    "import googleapiclient.errors\n",
    "import moviepy.editor as mp\n",
    "import io\n",
    "\n",
    "def upload_to_youtube(video_clip, title, description, tags=None):\n",
    "    scopes = [\"https://www.googleapis.com/auth/youtube.upload\"]\n",
    "\n",
    "    # Authenticate using the client_secret.json file\n",
    "    flow = google_auth_oauthlib.flow.InstalledAppFlow.from_client_secrets_file(\"client_secret.json\", scopes)\n",
    "    credentials = flow.run_local_server(port=0)\n",
    "    youtube = googleapiclient.discovery.build(\"youtube\", \"v3\", credentials=credentials)\n",
    "\n",
    "    # Convert video clip to bytes\n",
    "    video_bytes = io.BytesIO()\n",
    "    video_clip.write_videofile(video_bytes, fps=24, codec=\"libx264\")\n",
    "    video_bytes.seek(0)\n",
    "\n",
    "    # Upload the video\n",
    "    request = youtube.videos().insert(\n",
    "        part=\"snippet,status\",\n",
    "        body={\n",
    "            \"snippet\": {\n",
    "                \"title\": title,\n",
    "                \"description\": description,\n",
    "                \"tags\": tags if tags else [],\n",
    "                \"categoryId\": \"22\"  # Entertainment category\n",
    "            },\n",
    "            \"status\": {\n",
    "                \"privacyStatus\": \"public\"\n",
    "            }\n",
    "        },\n",
    "        media_body=googleapiclient.http.MediaIoBaseUpload(video_bytes, mimetype='video/mp4', resumable=True)\n",
    "    )\n",
    "\n",
    "    response = request.execute()\n",
    "    print(f\"Video uploaded with video ID: {response['id']}\")\n",
    "\n",
    "# Assuming 'video_clip' is your MoviePy video clip object\n",
    "title = \"Stoic for life\"\n",
    "description = \"Stoicism promotes emotional resilience by teaching us to focus on what we can control, and accept what we cannot, leading to inner peace and clarity. #Shorts\"\n",
    "tags = [\"Shorts\", \"Stoicism\"]\n",
    "\n",
    "upload_to_youtube(video_clip, title, description, tags)\n"
   ]
  },
  {
   "cell_type": "code",
   "execution_count": 12,
   "id": "4ac40ebb-6950-455a-923e-9599b2ba0155",
   "metadata": {},
   "outputs": [
    {
     "name": "stdout",
     "output_type": "stream",
     "text": [
      "Speech synthesized and saved to output.wav\n"
     ]
    }
   ],
   "source": [
    "import azure.cognitiveservices.speech as speechsdk\n",
    "\n",
    "# Set up the subscription and region keys\n",
    "speech_key = '542e53c7056d449dbfa51b952c150f2a'\n",
    "service_region = 'southeastasia'\n",
    "\n",
    "# Set up the TTS client with desired voice\n",
    "speech_config = speechsdk.SpeechConfig(subscription=speech_key, region=service_region)\n",
    "speech_config.speech_synthesis_voice_name = 'en-US-JasonNeural'\n",
    "\n",
    "synthesizer = speechsdk.SpeechSynthesizer(speech_config=speech_config)\n",
    "\n",
    "# Replace the variable with text\n",
    "text_to_speak = \"Observe always that everything is the result of change\"\n",
    "formatted_text = \"<speak version='1.0' xml:lang='en-US'><voice name='en-US-JasonNeural'><s /><mstts:express-as style='hopeful'><prosody rate='-20.00%%' pitch='-10.00%%'>{}</prosody></mstts:express-as><s /></voice></speak>\".format(text_value)\n",
    "\n",
    "# Synthesize the text with SSML tags and the replaced variable\n",
    "result = synthesizer.speak_ssml_async(formatted_text).get()\n",
    "\n",
    "# Save the synthesized audio to a file\n",
    "with open('output.wav', 'wb') as f:\n",
    "    f.write(result.audio_data)\n",
    "\n",
    "print('Speech synthesized and saved to output.wav')\n"
   ]
  },
  {
   "cell_type": "code",
   "execution_count": 122,
   "id": "6d88bc3f-1fc1-4186-88a9-e50209e7c7f4",
   "metadata": {},
   "outputs": [
    {
     "name": "stdout",
     "output_type": "stream",
     "text": [
      ".ipynb_checkpoints\n",
      "audio.mp3\n",
      "chosen_image.jpg\n",
      "output.wav\n",
      "quotes - Copy.csv\n",
      "quotes.csv\n",
      "quotes.json\n",
      "Untitled.ipynb\n",
      "video.mp4\n"
     ]
    }
   ],
   "source": [
    "import os\n",
    "\n",
    "# get the current working directory\n",
    "current_dir = os.getcwd()\n",
    "\n",
    "# list all the files in the current directory\n",
    "files = os.listdir(current_dir)\n",
    "\n",
    "# print the files\n",
    "for file in files:\n",
    "    print(file)\n"
   ]
  },
  {
   "cell_type": "code",
   "execution_count": 114,
   "id": "28c893c7-4aae-4601-ab67-8f1e5ca125eb",
   "metadata": {},
   "outputs": [],
   "source": [
    "import requests\n",
    "import json\n",
    "import random\n",
    "\n",
    "access_key = \"az1Om9jG8KXPKGXcYtYHIza8vBMFjqZ5CXEMyU72F-0\"\n",
    "search_query = author_value\n",
    "\n",
    "# Set up the API endpoint and headers\n",
    "endpoint = \"https://api.unsplash.com/search/photos\"\n",
    "headers = {\"Authorization\": f\"Client-ID {access_key}\"}\n",
    "\n",
    "# Make a GET request to the API endpoint with the search query\n",
    "response = requests.get(endpoint, headers=headers, params={\"query\": search_query})\n",
    "\n",
    "# Check the response status code\n",
    "if response.status_code == 200:\n",
    "    # Parse the response to get the list of portrait image URLs\n",
    "    image_urls = [result[\"urls\"][\"regular\"] for result in response.json()[\"results\"] if result[\"height\"] > result[\"width\"]]\n",
    "    \n",
    "    if len(image_urls) > 0:\n",
    "        # Choose a random image URL from the list\n",
    "        chosen_image_url = random.choice(image_urls)\n",
    "        \n",
    "        # Download the image\n",
    "        response = requests.get(chosen_image_url)\n",
    "        with open(\"chosen_image.jpg\", \"wb\") as f:\n",
    "            f.write(response.content)\n",
    "    else:\n",
    "        print(\"No portrait images found.\")\n",
    "else:\n",
    "    print(f\"Unsplash API returned status code {response.status_code}\")\n",
    "    print(response.json())\n"
   ]
  },
  {
   "cell_type": "code",
   "execution_count": null,
   "id": "d23f35f3-a36c-4d8c-8917-307f8ade27f5",
   "metadata": {},
   "outputs": [],
   "source": []
  }
 ],
 "metadata": {
  "kernelspec": {
   "display_name": "Python 3 (ipykernel)",
   "language": "python",
   "name": "python3"
  },
  "language_info": {
   "codemirror_mode": {
    "name": "ipython",
    "version": 3
   },
   "file_extension": ".py",
   "mimetype": "text/x-python",
   "name": "python",
   "nbconvert_exporter": "python",
   "pygments_lexer": "ipython3",
   "version": "3.8.16"
  }
 },
 "nbformat": 4,
 "nbformat_minor": 5
}
