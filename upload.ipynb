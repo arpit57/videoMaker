{
 "cells": [
  {
   "cell_type": "code",
   "execution_count": 5,
   "id": "fc90cd3e-3092-49da-b86c-19020d053b7a",
   "metadata": {},
   "outputs": [
    {
     "name": "stderr",
     "output_type": "stream",
     "text": [
      "\n",
      "\n",
      "Progress:   0%|                                                                                | 0/200 [00:00<?, ?it/s]\u001b[A\u001b[A\n",
      "\n",
      "\n",
      "Progress:   0%|                                                                                | 0/200 [00:00<?, ?it/s]\u001b[A\u001b[A\u001b[A"
     ]
    }
   ],
   "source": [
    "from youtube_video_uploader_bot import *\n",
    "\n",
    "youtube.login(username=\"mindful__musings\",password=\"97531@mindfulmusings\")\n",
    "response=youtube.upload(title='Testing Upload', video_path=r'C:\\Users\\arpit\\videoMaker\\output\\output1.mp4', description='I am just testing', type='Public')\n",
    "# videolink=response['body']['VideoLink']"
   ]
  },
  {
   "cell_type": "code",
   "execution_count": null,
   "id": "39d9bd2f-95c6-4172-aeff-19dc4e542aea",
   "metadata": {},
   "outputs": [],
   "source": []
  }
 ],
 "metadata": {
  "kernelspec": {
   "display_name": "Python 3 (ipykernel)",
   "language": "python",
   "name": "python3"
  },
  "language_info": {
   "codemirror_mode": {
    "name": "ipython",
    "version": 3
   },
   "file_extension": ".py",
   "mimetype": "text/x-python",
   "name": "python",
   "nbconvert_exporter": "python",
   "pygments_lexer": "ipython3",
   "version": "3.8.16"
  }
 },
 "nbformat": 4,
 "nbformat_minor": 5
}
