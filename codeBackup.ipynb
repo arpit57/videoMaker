{
 "cells": [
  {
   "cell_type": "code",
   "execution_count": 9,
   "id": "bf17a6bf-2ed6-42a0-9110-861563cd223b",
   "metadata": {},
   "outputs": [],
   "source": [
    "# convert json to csv\n",
    "\n",
    "# import json\n",
    "# import csv\n",
    "\n",
    "# # Open the JSON file and load the data into a list of dictionaries\n",
    "# with open(\"quotes.json\", \"r\", encoding=\"utf-8\") as f:\n",
    "#     data = json.load(f)[\"quotes\"]\n",
    "\n",
    "\n",
    "# # Open the CSV file for writing and write the header row\n",
    "# with open(\"quotes.csv\", \"w\", newline=\"\", encoding=\"utf-8\") as f:\n",
    "#     writer = csv.DictWriter(f, fieldnames=[\"text\", \"author\"])\n",
    "#     writer.writeheader()\n",
    "\n",
    "#     # Write each row to the CSV file\n",
    "#     for quote in data:\n",
    "#         writer.writerow(quote)\n"
   ]
  },
  {
   "cell_type": "code",
   "execution_count": 1,
   "id": "ec00ff5d-8d6a-4351-b470-1cb376442e05",
   "metadata": {},
   "outputs": [],
   "source": [
    "import requests\n",
    "import json\n",
    "import random\n",
    "import pandas as pd"
   ]
  },
  {
   "cell_type": "code",
   "execution_count": 2,
   "id": "95f6962d-75f0-47d1-8656-0e12f0e0fb32",
   "metadata": {},
   "outputs": [],
   "source": [
    "df = pd.read_csv(\"quotes.csv\")"
   ]
  },
  {
   "cell_type": "code",
   "execution_count": 3,
   "id": "a099f449-b3d3-4707-99ff-530782df3f60",
   "metadata": {},
   "outputs": [
    {
     "data": {
      "text/html": [
       "<div>\n",
       "<style scoped>\n",
       "    .dataframe tbody tr th:only-of-type {\n",
       "        vertical-align: middle;\n",
       "    }\n",
       "\n",
       "    .dataframe tbody tr th {\n",
       "        vertical-align: top;\n",
       "    }\n",
       "\n",
       "    .dataframe thead th {\n",
       "        text-align: right;\n",
       "    }\n",
       "</style>\n",
       "<table border=\"1\" class=\"dataframe\">\n",
       "  <thead>\n",
       "    <tr style=\"text-align: right;\">\n",
       "      <th></th>\n",
       "      <th>text</th>\n",
       "      <th>author</th>\n",
       "    </tr>\n",
       "  </thead>\n",
       "  <tbody>\n",
       "    <tr>\n",
       "      <th>1193</th>\n",
       "      <td>Do not think that what is hard for you to mast...</td>\n",
       "      <td>Marcus Aurelius</td>\n",
       "    </tr>\n",
       "    <tr>\n",
       "      <th>486</th>\n",
       "      <td>True happiness is to enjoy the present, withou...</td>\n",
       "      <td>Seneca</td>\n",
       "    </tr>\n",
       "    <tr>\n",
       "      <th>1280</th>\n",
       "      <td>Nothing has such power to broaden the mind as ...</td>\n",
       "      <td>Marcus Aurelius</td>\n",
       "    </tr>\n",
       "    <tr>\n",
       "      <th>1119</th>\n",
       "      <td>How ridiculous and how strange to be surprised...</td>\n",
       "      <td>Marcus Aurelius</td>\n",
       "    </tr>\n",
       "    <tr>\n",
       "      <th>544</th>\n",
       "      <td>The man who spends his time choosing one resor...</td>\n",
       "      <td>Seneca</td>\n",
       "    </tr>\n",
       "    <tr>\n",
       "      <th>590</th>\n",
       "      <td>He who needs riches least, enjoys riches most.</td>\n",
       "      <td>Seneca</td>\n",
       "    </tr>\n",
       "    <tr>\n",
       "      <th>1746</th>\n",
       "      <td>How ridiculous and what a stranger he is who i...</td>\n",
       "      <td>Marcus Aurelius</td>\n",
       "    </tr>\n",
       "    <tr>\n",
       "      <th>750</th>\n",
       "      <td>In the ashes all men are levelled. We're born ...</td>\n",
       "      <td>Seneca</td>\n",
       "    </tr>\n",
       "    <tr>\n",
       "      <th>875</th>\n",
       "      <td>In every good person, there lives a god. Which...</td>\n",
       "      <td>Seneca</td>\n",
       "    </tr>\n",
       "    <tr>\n",
       "      <th>1381</th>\n",
       "      <td>A little flesh, a little breath, and a Reason ...</td>\n",
       "      <td>Marcus Aurelius</td>\n",
       "    </tr>\n",
       "  </tbody>\n",
       "</table>\n",
       "</div>"
      ],
      "text/plain": [
       "                                                   text           author\n",
       "1193  Do not think that what is hard for you to mast...  Marcus Aurelius\n",
       "486   True happiness is to enjoy the present, withou...           Seneca\n",
       "1280  Nothing has such power to broaden the mind as ...  Marcus Aurelius\n",
       "1119  How ridiculous and how strange to be surprised...  Marcus Aurelius\n",
       "544   The man who spends his time choosing one resor...           Seneca\n",
       "590      He who needs riches least, enjoys riches most.           Seneca\n",
       "1746  How ridiculous and what a stranger he is who i...  Marcus Aurelius\n",
       "750   In the ashes all men are levelled. We're born ...           Seneca\n",
       "875   In every good person, there lives a god. Which...           Seneca\n",
       "1381  A little flesh, a little breath, and a Reason ...  Marcus Aurelius"
      ]
     },
     "execution_count": 3,
     "metadata": {},
     "output_type": "execute_result"
    }
   ],
   "source": [
    "df.sample(10)"
   ]
  },
  {
   "cell_type": "code",
   "execution_count": 4,
   "id": "2a8b4a9d-c68d-4386-abc0-7a05f281dca4",
   "metadata": {},
   "outputs": [
    {
     "data": {
      "text/plain": [
       "(1774, 2)"
      ]
     },
     "execution_count": 4,
     "metadata": {},
     "output_type": "execute_result"
    }
   ],
   "source": [
    "df.shape"
   ]
  },
  {
   "cell_type": "code",
   "execution_count": 5,
   "id": "4f6f5205-f807-48f1-8286-2023402d5839",
   "metadata": {},
   "outputs": [
    {
     "data": {
      "text/html": [
       "<div>\n",
       "<style scoped>\n",
       "    .dataframe tbody tr th:only-of-type {\n",
       "        vertical-align: middle;\n",
       "    }\n",
       "\n",
       "    .dataframe tbody tr th {\n",
       "        vertical-align: top;\n",
       "    }\n",
       "\n",
       "    .dataframe thead th {\n",
       "        text-align: right;\n",
       "    }\n",
       "</style>\n",
       "<table border=\"1\" class=\"dataframe\">\n",
       "  <thead>\n",
       "    <tr style=\"text-align: right;\">\n",
       "      <th></th>\n",
       "      <th>text</th>\n",
       "      <th>author</th>\n",
       "    </tr>\n",
       "  </thead>\n",
       "  <tbody>\n",
       "    <tr>\n",
       "      <th>count</th>\n",
       "      <td>1774</td>\n",
       "      <td>1774</td>\n",
       "    </tr>\n",
       "    <tr>\n",
       "      <th>unique</th>\n",
       "      <td>1726</td>\n",
       "      <td>4</td>\n",
       "    </tr>\n",
       "    <tr>\n",
       "      <th>top</th>\n",
       "      <td>While we are postponing, life speeds by.</td>\n",
       "      <td>Seneca</td>\n",
       "    </tr>\n",
       "    <tr>\n",
       "      <th>freq</th>\n",
       "      <td>3</td>\n",
       "      <td>768</td>\n",
       "    </tr>\n",
       "  </tbody>\n",
       "</table>\n",
       "</div>"
      ],
      "text/plain": [
       "                                            text  author\n",
       "count                                       1774    1774\n",
       "unique                                      1726       4\n",
       "top     While we are postponing, life speeds by.  Seneca\n",
       "freq                                           3     768"
      ]
     },
     "execution_count": 5,
     "metadata": {},
     "output_type": "execute_result"
    }
   ],
   "source": [
    "df.describe()"
   ]
  },
  {
   "cell_type": "code",
   "execution_count": 6,
   "id": "e3520a5f-6beb-4fba-ac1b-6d1977d74363",
   "metadata": {},
   "outputs": [],
   "source": [
    "df.drop_duplicates(inplace=True)"
   ]
  },
  {
   "cell_type": "code",
   "execution_count": 7,
   "id": "242e116a-3476-48b5-99c6-d0adb685c69b",
   "metadata": {},
   "outputs": [
    {
     "data": {
      "text/plain": [
       "author\n",
       "Seneca             747\n",
       "Marcus Aurelius    681\n",
       "Epictetus          302\n",
       "Cleanthes            1\n",
       "Name: count, dtype: int64"
      ]
     },
     "execution_count": 7,
     "metadata": {},
     "output_type": "execute_result"
    }
   ],
   "source": [
    "df[\"author\"].value_counts()"
   ]
  },
  {
   "cell_type": "code",
   "execution_count": 8,
   "id": "9eb29e18-4ccf-4e51-aa93-4e3d4dda75e9",
   "metadata": {},
   "outputs": [
    {
     "data": {
      "text/html": [
       "<div>\n",
       "<style scoped>\n",
       "    .dataframe tbody tr th:only-of-type {\n",
       "        vertical-align: middle;\n",
       "    }\n",
       "\n",
       "    .dataframe tbody tr th {\n",
       "        vertical-align: top;\n",
       "    }\n",
       "\n",
       "    .dataframe thead th {\n",
       "        text-align: right;\n",
       "    }\n",
       "</style>\n",
       "<table border=\"1\" class=\"dataframe\">\n",
       "  <thead>\n",
       "    <tr style=\"text-align: right;\">\n",
       "      <th></th>\n",
       "      <th>text</th>\n",
       "      <th>author</th>\n",
       "    </tr>\n",
       "  </thead>\n",
       "  <tbody>\n",
       "    <tr>\n",
       "      <th>0</th>\n",
       "      <td>If anyone tells you that a certain person spea...</td>\n",
       "      <td>Epictetus</td>\n",
       "    </tr>\n",
       "    <tr>\n",
       "      <th>1</th>\n",
       "      <td>Wealth consists not in having great possession...</td>\n",
       "      <td>Epictetus</td>\n",
       "    </tr>\n",
       "    <tr>\n",
       "      <th>2</th>\n",
       "      <td>There is only one way to happiness and that is...</td>\n",
       "      <td>Epictetus</td>\n",
       "    </tr>\n",
       "    <tr>\n",
       "      <th>3</th>\n",
       "      <td>Man is not worried by real problems so much as...</td>\n",
       "      <td>Epictetus</td>\n",
       "    </tr>\n",
       "    <tr>\n",
       "      <th>4</th>\n",
       "      <td>First say to yourself what you would be; and t...</td>\n",
       "      <td>Epictetus</td>\n",
       "    </tr>\n",
       "    <tr>\n",
       "      <th>...</th>\n",
       "      <td>...</td>\n",
       "      <td>...</td>\n",
       "    </tr>\n",
       "    <tr>\n",
       "      <th>1768</th>\n",
       "      <td>It is royal to do good and to be abused.</td>\n",
       "      <td>Marcus Aurelius</td>\n",
       "    </tr>\n",
       "    <tr>\n",
       "      <th>1769</th>\n",
       "      <td>Things?—I was once a fortunate man, but I lost...</td>\n",
       "      <td>Marcus Aurelius</td>\n",
       "    </tr>\n",
       "    <tr>\n",
       "      <th>1770</th>\n",
       "      <td>Even chance is not divorced from nature, from ...</td>\n",
       "      <td>Marcus Aurelius</td>\n",
       "    </tr>\n",
       "    <tr>\n",
       "      <th>1771</th>\n",
       "      <td>Be not either a man of many words, or busy abo...</td>\n",
       "      <td>Marcus Aurelius</td>\n",
       "    </tr>\n",
       "    <tr>\n",
       "      <th>1772</th>\n",
       "      <td>But death and life, success and failure, pain ...</td>\n",
       "      <td>Marcus Aurelius</td>\n",
       "    </tr>\n",
       "  </tbody>\n",
       "</table>\n",
       "<p>1730 rows × 2 columns</p>\n",
       "</div>"
      ],
      "text/plain": [
       "                                                   text           author\n",
       "0     If anyone tells you that a certain person spea...        Epictetus\n",
       "1     Wealth consists not in having great possession...        Epictetus\n",
       "2     There is only one way to happiness and that is...        Epictetus\n",
       "3     Man is not worried by real problems so much as...        Epictetus\n",
       "4     First say to yourself what you would be; and t...        Epictetus\n",
       "...                                                 ...              ...\n",
       "1768           It is royal to do good and to be abused.  Marcus Aurelius\n",
       "1769  Things?—I was once a fortunate man, but I lost...  Marcus Aurelius\n",
       "1770  Even chance is not divorced from nature, from ...  Marcus Aurelius\n",
       "1771  Be not either a man of many words, or busy abo...  Marcus Aurelius\n",
       "1772  But death and life, success and failure, pain ...  Marcus Aurelius\n",
       "\n",
       "[1730 rows x 2 columns]"
      ]
     },
     "execution_count": 8,
     "metadata": {},
     "output_type": "execute_result"
    }
   ],
   "source": [
    "df = df[df[\"author\"] != \"Cleanthes\"]\n",
    "# df[\"author\"].value_counts()\n",
    "df"
   ]
  },
  {
   "cell_type": "code",
   "execution_count": 9,
   "id": "b44e47d1-83e3-4329-a8e1-8bf652614c1a",
   "metadata": {},
   "outputs": [],
   "source": [
    "randomRecord = df.sample()\n",
    "text_value = randomRecord['text'].iloc[0]\n",
    "author_value = randomRecord['author'].iloc[0]"
   ]
  },
  {
   "cell_type": "code",
   "execution_count": 10,
   "id": "de6945d4-3374-465b-992a-1c4da017406d",
   "metadata": {},
   "outputs": [
    {
     "data": {
      "text/plain": [
       "'Disasters, therefore, and losses, and wrongs, have only the same power over virtue that a cloud has over the sun.'"
      ]
     },
     "execution_count": 10,
     "metadata": {},
     "output_type": "execute_result"
    }
   ],
   "source": [
    "text_value"
   ]
  },
  {
   "cell_type": "code",
   "execution_count": 11,
   "id": "5238b52f-581e-4d9e-8ea2-09cad1159dbb",
   "metadata": {},
   "outputs": [
    {
     "data": {
      "text/plain": [
       "'Seneca'"
      ]
     },
     "execution_count": 11,
     "metadata": {},
     "output_type": "execute_result"
    }
   ],
   "source": [
    "author_value"
   ]
  },
  {
   "cell_type": "code",
   "execution_count": 25,
   "id": "2bf9ef31-4857-43f3-bb85-7421363ab66f",
   "metadata": {},
   "outputs": [],
   "source": [
    "def break_text(text):\n",
    "    words = text.split()\n",
    "    n = len(words)\n",
    "    n1 = n // 3\n",
    "    n2 = 2 * n1\n",
    "    line1 = ' '.join(words[:n1])\n",
    "    line2 = ' '.join(words[n1:n2])\n",
    "    line3 = ' '.join(words[n2:])\n",
    "    return f\"{line1}\\n{line2}\\n{line3}\"\n"
   ]
  },
  {
   "cell_type": "code",
   "execution_count": 36,
   "id": "14ad17bf-3327-4c8a-a6b3-251cfcb5fbc7",
   "metadata": {},
   "outputs": [
    {
     "name": "stderr",
     "output_type": "stream",
     "text": [
      "\n",
      "\u001b[A                                                                                                                    \n",
      "t:   0%|                                                          | 1/480 [12:16:11<5877:14:54, 44171.39s/it, now=None]\u001b[A\n",
      "\u001b[A                                                                                                                    \n",
      "t:   0%|                                                          | 1/480 [12:16:11<5877:14:58, 44171.39s/it, now=None]\u001b[A"
     ]
    },
    {
     "name": "stdout",
     "output_type": "stream",
     "text": [
      "Moviepy - Building video output/seneca.mp4.\n",
      "MoviePy - Writing audio in senecaTEMP_MPY_wvf_snd.mp3\n"
     ]
    },
    {
     "name": "stderr",
     "output_type": "stream",
     "text": [
      "                                                                                                                       \n",
      "\u001b[A                                                                                                                    \n",
      "t:   0%|                                                          | 1/480 [12:16:12<5877:23:53, 44172.51s/it, now=None]\u001b[A\n",
      "\u001b[A                                                                                                                    \n",
      "t:   0%|                                                          | 1/480 [12:16:12<5877:23:59, 44172.52s/it, now=None]\u001b[A"
     ]
    },
    {
     "name": "stdout",
     "output_type": "stream",
     "text": [
      "MoviePy - Done.\n",
      "Moviepy - Writing video output/seneca.mp4\n",
      "\n"
     ]
    },
    {
     "name": "stderr",
     "output_type": "stream",
     "text": [
      "                                                                                                                       \n",
      "\u001b[A                                                                                                                    \n",
      "t:   0%|                                                          | 1/480 [12:17:48<5890:10:04, 44268.49s/it, now=None]\u001b[A\n",
      "\u001b[A                                                                                                                    \n",
      "t:   0%|                                                          | 1/480 [12:17:48<5890:10:10, 44268.50s/it, now=None]\u001b[A"
     ]
    },
    {
     "name": "stdout",
     "output_type": "stream",
     "text": [
      "Moviepy - Done !\n",
      "Moviepy - video ready output/seneca.mp4\n"
     ]
    }
   ],
   "source": [
    "from moviepy.editor import *\n",
    "\n",
    "# Set the file paths\n",
    "image_path = \"photos/seneca.jpeg\"\n",
    "output_path = \"output/seneca.mp4\"\n",
    "audio_path = \"music/adventure.mp3\"\n",
    "\n",
    "# Load the image file\n",
    "image_clip = ImageClip(image_path).set_duration(20).set_fps(24)\n",
    "\n",
    "# Load the audio file and set its duration to match the video\n",
    "audio_clip = AudioFileClip(audio_path).set_duration(image_clip.duration).audio_fadeout(1.0)\n",
    "\n",
    "# Set the audio of the video\n",
    "video_clip = image_clip.set_audio(audio_clip)\n",
    "\n",
    "# Create the text clip and set its position and duration\n",
    "txt = \"The greatest glory in living lies not in never falling, but in rising every time we fall.\"\n",
    "fontsize = 150\n",
    "txt_clip = TextClip(break_text(txt), fontsize=fontsize, color='white', bg_color='transparent', align='center')\n",
    "txt_clip = txt_clip.set_pos('center').set_duration(image_clip.duration)\n",
    "\n",
    "# Add bold text clip below the first text clip\n",
    "bold_txt_clip = TextClip(\"Seneca\", fontsize=fontsize+50, color='white', bg_color='transparent', font='Helvetica-BoldItalic')\n",
    "bold_txt_clip = bold_txt_clip.set_pos(('center', 2200)).set_duration(image_clip.duration)\n",
    "\n",
    "# Composite the text clip onto the video clip\n",
    "video_clip = CompositeVideoClip([video_clip, txt_clip, bold_txt_clip])\n",
    "\n",
    "# Save the video to output folder\n",
    "video_clip.write_videofile(output_path, fps=24, codec=\"libx264\")\n"
   ]
  },
  {
   "cell_type": "code",
   "execution_count": 14,
   "id": "4fa2af57-220b-4a08-b52d-3ab849c5d43d",
   "metadata": {},
   "outputs": [],
   "source": [
    "text = \"The greatest glory in living lies not in never falling, but in rising every time we fall. \\n- Nelson Mandela\"\n"
   ]
  },
  {
   "cell_type": "code",
   "execution_count": 15,
   "id": "abd5aa9c-6ad5-43a2-8ff1-3127cdef90e7",
   "metadata": {},
   "outputs": [
    {
     "data": {
      "text/plain": [
       "353"
      ]
     },
     "execution_count": 15,
     "metadata": {},
     "output_type": "execute_result"
    }
   ],
   "source": [
    "int(len(text)/2)+300"
   ]
  },
  {
   "cell_type": "code",
   "execution_count": null,
   "id": "32a5dc42-6703-46c5-995b-fe2ce53f6edb",
   "metadata": {},
   "outputs": [],
   "source": []
  },
  {
   "cell_type": "code",
   "execution_count": 12,
   "id": "4ac40ebb-6950-455a-923e-9599b2ba0155",
   "metadata": {},
   "outputs": [
    {
     "name": "stdout",
     "output_type": "stream",
     "text": [
      "Speech synthesized and saved to output.wav\n"
     ]
    }
   ],
   "source": [
    "import azure.cognitiveservices.speech as speechsdk\n",
    "\n",
    "# Set up the subscription and region keys\n",
    "speech_key = '542e53c7056d449dbfa51b952c150f2a'\n",
    "service_region = 'southeastasia'\n",
    "\n",
    "# Set up the TTS client with desired voice\n",
    "speech_config = speechsdk.SpeechConfig(subscription=speech_key, region=service_region)\n",
    "speech_config.speech_synthesis_voice_name = 'en-US-JasonNeural'\n",
    "\n",
    "synthesizer = speechsdk.SpeechSynthesizer(speech_config=speech_config)\n",
    "\n",
    "# Replace the variable with text\n",
    "text_to_speak = \"Observe always that everything is the result of change\"\n",
    "formatted_text = \"<speak version='1.0' xml:lang='en-US'><voice name='en-US-JasonNeural'><s /><mstts:express-as style='hopeful'><prosody rate='-20.00%%' pitch='-10.00%%'>{}</prosody></mstts:express-as><s /></voice></speak>\".format(text_value)\n",
    "\n",
    "# Synthesize the text with SSML tags and the replaced variable\n",
    "result = synthesizer.speak_ssml_async(formatted_text).get()\n",
    "\n",
    "# Save the synthesized audio to a file\n",
    "with open('output.wav', 'wb') as f:\n",
    "    f.write(result.audio_data)\n",
    "\n",
    "print('Speech synthesized and saved to output.wav')\n"
   ]
  },
  {
   "cell_type": "code",
   "execution_count": 122,
   "id": "6d88bc3f-1fc1-4186-88a9-e50209e7c7f4",
   "metadata": {},
   "outputs": [
    {
     "name": "stdout",
     "output_type": "stream",
     "text": [
      ".ipynb_checkpoints\n",
      "audio.mp3\n",
      "chosen_image.jpg\n",
      "output.wav\n",
      "quotes - Copy.csv\n",
      "quotes.csv\n",
      "quotes.json\n",
      "Untitled.ipynb\n",
      "video.mp4\n"
     ]
    }
   ],
   "source": [
    "import os\n",
    "\n",
    "# get the current working directory\n",
    "current_dir = os.getcwd()\n",
    "\n",
    "# list all the files in the current directory\n",
    "files = os.listdir(current_dir)\n",
    "\n",
    "# print the files\n",
    "for file in files:\n",
    "    print(file)\n"
   ]
  },
  {
   "cell_type": "code",
   "execution_count": 114,
   "id": "28c893c7-4aae-4601-ab67-8f1e5ca125eb",
   "metadata": {},
   "outputs": [],
   "source": [
    "import requests\n",
    "import json\n",
    "import random\n",
    "\n",
    "access_key = \"az1Om9jG8KXPKGXcYtYHIza8vBMFjqZ5CXEMyU72F-0\"\n",
    "search_query = author_value\n",
    "\n",
    "# Set up the API endpoint and headers\n",
    "endpoint = \"https://api.unsplash.com/search/photos\"\n",
    "headers = {\"Authorization\": f\"Client-ID {access_key}\"}\n",
    "\n",
    "# Make a GET request to the API endpoint with the search query\n",
    "response = requests.get(endpoint, headers=headers, params={\"query\": search_query})\n",
    "\n",
    "# Check the response status code\n",
    "if response.status_code == 200:\n",
    "    # Parse the response to get the list of portrait image URLs\n",
    "    image_urls = [result[\"urls\"][\"regular\"] for result in response.json()[\"results\"] if result[\"height\"] > result[\"width\"]]\n",
    "    \n",
    "    if len(image_urls) > 0:\n",
    "        # Choose a random image URL from the list\n",
    "        chosen_image_url = random.choice(image_urls)\n",
    "        \n",
    "        # Download the image\n",
    "        response = requests.get(chosen_image_url)\n",
    "        with open(\"chosen_image.jpg\", \"wb\") as f:\n",
    "            f.write(response.content)\n",
    "    else:\n",
    "        print(\"No portrait images found.\")\n",
    "else:\n",
    "    print(f\"Unsplash API returned status code {response.status_code}\")\n",
    "    print(response.json())\n"
   ]
  },
  {
   "cell_type": "code",
   "execution_count": null,
   "id": "d23f35f3-a36c-4d8c-8917-307f8ade27f5",
   "metadata": {},
   "outputs": [],
   "source": []
  }
 ],
 "metadata": {
  "kernelspec": {
   "display_name": "Python 3 (ipykernel)",
   "language": "python",
   "name": "python3"
  },
  "language_info": {
   "codemirror_mode": {
    "name": "ipython",
    "version": 3
   },
   "file_extension": ".py",
   "mimetype": "text/x-python",
   "name": "python",
   "nbconvert_exporter": "python",
   "pygments_lexer": "ipython3",
   "version": "3.8.16"
  }
 },
 "nbformat": 4,
 "nbformat_minor": 5
}
