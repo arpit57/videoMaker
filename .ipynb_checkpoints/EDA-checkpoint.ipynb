{
 "cells": [
  {
   "cell_type": "code",
   "execution_count": 1,
   "id": "e0f0c6c3-b94b-4798-888d-75c6f13cf61e",
   "metadata": {},
   "outputs": [],
   "source": [
    "# convert json to csv\n",
    "\n",
    "import json\n",
    "import csv\n",
    "\n",
    "# Open the JSON file and load the data into a list of dictionaries\n",
    "with open(\"data/quotes.json\", \"r\", encoding=\"utf-8\") as f:\n",
    "    data = json.load(f)[\"quotes\"]\n",
    "\n",
    "\n",
    "# Open the CSV file for writing and write the header row\n",
    "with open(\"quotes.csv\", \"w\", newline=\"\", encoding=\"utf-8\") as f:\n",
    "    writer = csv.DictWriter(f, fieldnames=[\"text\", \"author\"])\n",
    "    writer.writeheader()\n",
    "\n",
    "    # Write each row to the CSV file\n",
    "    for quote in data:\n",
    "        writer.writerow(quote)\n"
   ]
  },
  {
   "cell_type": "code",
   "execution_count": 2,
   "id": "fb8eb84d-cee0-4e94-9713-2286707f6858",
   "metadata": {},
   "outputs": [],
   "source": [
    "import requests\n",
    "import json\n",
    "import random\n",
    "import pandas as pd"
   ]
  },
  {
   "cell_type": "code",
   "execution_count": 4,
   "id": "98e4480c-5454-4d4c-ba86-376191eeaae9",
   "metadata": {},
   "outputs": [],
   "source": [
    "df = pd.read_csv(\"data/quotes.csv\")"
   ]
  },
  {
   "cell_type": "code",
   "execution_count": 5,
   "id": "93b5ae2f-2696-438e-8432-792c4b327a55",
   "metadata": {},
   "outputs": [
    {
     "data": {
      "text/html": [
       "<div>\n",
       "<style scoped>\n",
       "    .dataframe tbody tr th:only-of-type {\n",
       "        vertical-align: middle;\n",
       "    }\n",
       "\n",
       "    .dataframe tbody tr th {\n",
       "        vertical-align: top;\n",
       "    }\n",
       "\n",
       "    .dataframe thead th {\n",
       "        text-align: right;\n",
       "    }\n",
       "</style>\n",
       "<table border=\"1\" class=\"dataframe\">\n",
       "  <thead>\n",
       "    <tr style=\"text-align: right;\">\n",
       "      <th></th>\n",
       "      <th>text</th>\n",
       "      <th>author</th>\n",
       "    </tr>\n",
       "  </thead>\n",
       "  <tbody>\n",
       "    <tr>\n",
       "      <th>867</th>\n",
       "      <td>Not single is the death which comes; the death...</td>\n",
       "      <td>Seneca</td>\n",
       "    </tr>\n",
       "    <tr>\n",
       "      <th>1692</th>\n",
       "      <td>He blind, who cannot see with the eyes of his ...</td>\n",
       "      <td>Marcus Aurelius</td>\n",
       "    </tr>\n",
       "    <tr>\n",
       "      <th>709</th>\n",
       "      <td>Certain people have good, ordinary blood and o...</td>\n",
       "      <td>Seneca</td>\n",
       "    </tr>\n",
       "    <tr>\n",
       "      <th>426</th>\n",
       "      <td>The greatest obstacle to living is expectancy,...</td>\n",
       "      <td>Seneca</td>\n",
       "    </tr>\n",
       "    <tr>\n",
       "      <th>42</th>\n",
       "      <td>Asked, Who is the rich man? Epictetus replied,...</td>\n",
       "      <td>Epictetus</td>\n",
       "    </tr>\n",
       "    <tr>\n",
       "      <th>417</th>\n",
       "      <td>Fidelity purchased with money, money can destroy.</td>\n",
       "      <td>Seneca</td>\n",
       "    </tr>\n",
       "    <tr>\n",
       "      <th>768</th>\n",
       "      <td>The man who tries to find out what has been sa...</td>\n",
       "      <td>Seneca</td>\n",
       "    </tr>\n",
       "    <tr>\n",
       "      <th>1400</th>\n",
       "      <td>Do not look around to discover other people's ...</td>\n",
       "      <td>Marcus Aurelius</td>\n",
       "    </tr>\n",
       "    <tr>\n",
       "      <th>1533</th>\n",
       "      <td>Men exist for the sake of one another. Teach t...</td>\n",
       "      <td>Marcus Aurelius</td>\n",
       "    </tr>\n",
       "    <tr>\n",
       "      <th>713</th>\n",
       "      <td>\"Well then, shall we act like other men? Shall...</td>\n",
       "      <td>Seneca</td>\n",
       "    </tr>\n",
       "  </tbody>\n",
       "</table>\n",
       "</div>"
      ],
      "text/plain": [
       "                                                   text           author\n",
       "867   Not single is the death which comes; the death...           Seneca\n",
       "1692  He blind, who cannot see with the eyes of his ...  Marcus Aurelius\n",
       "709   Certain people have good, ordinary blood and o...           Seneca\n",
       "426   The greatest obstacle to living is expectancy,...           Seneca\n",
       "42    Asked, Who is the rich man? Epictetus replied,...        Epictetus\n",
       "417   Fidelity purchased with money, money can destroy.           Seneca\n",
       "768   The man who tries to find out what has been sa...           Seneca\n",
       "1400  Do not look around to discover other people's ...  Marcus Aurelius\n",
       "1533  Men exist for the sake of one another. Teach t...  Marcus Aurelius\n",
       "713   \"Well then, shall we act like other men? Shall...           Seneca"
      ]
     },
     "execution_count": 5,
     "metadata": {},
     "output_type": "execute_result"
    }
   ],
   "source": [
    "df.sample(10)"
   ]
  },
  {
   "cell_type": "code",
   "execution_count": 6,
   "id": "60de8413-cc72-4161-a892-bb02344894c5",
   "metadata": {},
   "outputs": [
    {
     "data": {
      "text/plain": [
       "(1774, 2)"
      ]
     },
     "execution_count": 6,
     "metadata": {},
     "output_type": "execute_result"
    }
   ],
   "source": [
    "df.shape"
   ]
  },
  {
   "cell_type": "code",
   "execution_count": 7,
   "id": "0cd2c9cd-11d9-4a5c-924b-00a5444c07ce",
   "metadata": {},
   "outputs": [
    {
     "data": {
      "text/html": [
       "<div>\n",
       "<style scoped>\n",
       "    .dataframe tbody tr th:only-of-type {\n",
       "        vertical-align: middle;\n",
       "    }\n",
       "\n",
       "    .dataframe tbody tr th {\n",
       "        vertical-align: top;\n",
       "    }\n",
       "\n",
       "    .dataframe thead th {\n",
       "        text-align: right;\n",
       "    }\n",
       "</style>\n",
       "<table border=\"1\" class=\"dataframe\">\n",
       "  <thead>\n",
       "    <tr style=\"text-align: right;\">\n",
       "      <th></th>\n",
       "      <th>text</th>\n",
       "      <th>author</th>\n",
       "    </tr>\n",
       "  </thead>\n",
       "  <tbody>\n",
       "    <tr>\n",
       "      <th>count</th>\n",
       "      <td>1774</td>\n",
       "      <td>1774</td>\n",
       "    </tr>\n",
       "    <tr>\n",
       "      <th>unique</th>\n",
       "      <td>1726</td>\n",
       "      <td>4</td>\n",
       "    </tr>\n",
       "    <tr>\n",
       "      <th>top</th>\n",
       "      <td>While we are postponing, life speeds by.</td>\n",
       "      <td>Seneca</td>\n",
       "    </tr>\n",
       "    <tr>\n",
       "      <th>freq</th>\n",
       "      <td>3</td>\n",
       "      <td>768</td>\n",
       "    </tr>\n",
       "  </tbody>\n",
       "</table>\n",
       "</div>"
      ],
      "text/plain": [
       "                                            text  author\n",
       "count                                       1774    1774\n",
       "unique                                      1726       4\n",
       "top     While we are postponing, life speeds by.  Seneca\n",
       "freq                                           3     768"
      ]
     },
     "execution_count": 7,
     "metadata": {},
     "output_type": "execute_result"
    }
   ],
   "source": [
    "df.describe()"
   ]
  },
  {
   "cell_type": "code",
   "execution_count": 8,
   "id": "fb526f45-95e6-4a79-9908-4f550d923ae6",
   "metadata": {},
   "outputs": [],
   "source": [
    "df.drop_duplicates(inplace=True)"
   ]
  },
  {
   "cell_type": "code",
   "execution_count": 9,
   "id": "5417356c-1880-4916-ad04-c457d6960727",
   "metadata": {},
   "outputs": [
    {
     "data": {
      "text/plain": [
       "author\n",
       "Seneca             747\n",
       "Marcus Aurelius    681\n",
       "Epictetus          302\n",
       "Cleanthes            1\n",
       "Name: count, dtype: int64"
      ]
     },
     "execution_count": 9,
     "metadata": {},
     "output_type": "execute_result"
    }
   ],
   "source": [
    "df[\"author\"].value_counts()"
   ]
  },
  {
   "cell_type": "code",
   "execution_count": 10,
   "id": "bd03671d-acbb-4606-9389-eaf59ed095d7",
   "metadata": {},
   "outputs": [
    {
     "data": {
      "text/html": [
       "<div>\n",
       "<style scoped>\n",
       "    .dataframe tbody tr th:only-of-type {\n",
       "        vertical-align: middle;\n",
       "    }\n",
       "\n",
       "    .dataframe tbody tr th {\n",
       "        vertical-align: top;\n",
       "    }\n",
       "\n",
       "    .dataframe thead th {\n",
       "        text-align: right;\n",
       "    }\n",
       "</style>\n",
       "<table border=\"1\" class=\"dataframe\">\n",
       "  <thead>\n",
       "    <tr style=\"text-align: right;\">\n",
       "      <th></th>\n",
       "      <th>text</th>\n",
       "      <th>author</th>\n",
       "    </tr>\n",
       "  </thead>\n",
       "  <tbody>\n",
       "    <tr>\n",
       "      <th>0</th>\n",
       "      <td>If anyone tells you that a certain person spea...</td>\n",
       "      <td>Epictetus</td>\n",
       "    </tr>\n",
       "    <tr>\n",
       "      <th>1</th>\n",
       "      <td>Wealth consists not in having great possession...</td>\n",
       "      <td>Epictetus</td>\n",
       "    </tr>\n",
       "    <tr>\n",
       "      <th>2</th>\n",
       "      <td>There is only one way to happiness and that is...</td>\n",
       "      <td>Epictetus</td>\n",
       "    </tr>\n",
       "    <tr>\n",
       "      <th>3</th>\n",
       "      <td>Man is not worried by real problems so much as...</td>\n",
       "      <td>Epictetus</td>\n",
       "    </tr>\n",
       "    <tr>\n",
       "      <th>4</th>\n",
       "      <td>First say to yourself what you would be; and t...</td>\n",
       "      <td>Epictetus</td>\n",
       "    </tr>\n",
       "    <tr>\n",
       "      <th>...</th>\n",
       "      <td>...</td>\n",
       "      <td>...</td>\n",
       "    </tr>\n",
       "    <tr>\n",
       "      <th>1768</th>\n",
       "      <td>It is royal to do good and to be abused.</td>\n",
       "      <td>Marcus Aurelius</td>\n",
       "    </tr>\n",
       "    <tr>\n",
       "      <th>1769</th>\n",
       "      <td>Things?—I was once a fortunate man, but I lost...</td>\n",
       "      <td>Marcus Aurelius</td>\n",
       "    </tr>\n",
       "    <tr>\n",
       "      <th>1770</th>\n",
       "      <td>Even chance is not divorced from nature, from ...</td>\n",
       "      <td>Marcus Aurelius</td>\n",
       "    </tr>\n",
       "    <tr>\n",
       "      <th>1771</th>\n",
       "      <td>Be not either a man of many words, or busy abo...</td>\n",
       "      <td>Marcus Aurelius</td>\n",
       "    </tr>\n",
       "    <tr>\n",
       "      <th>1772</th>\n",
       "      <td>But death and life, success and failure, pain ...</td>\n",
       "      <td>Marcus Aurelius</td>\n",
       "    </tr>\n",
       "  </tbody>\n",
       "</table>\n",
       "<p>1730 rows × 2 columns</p>\n",
       "</div>"
      ],
      "text/plain": [
       "                                                   text           author\n",
       "0     If anyone tells you that a certain person spea...        Epictetus\n",
       "1     Wealth consists not in having great possession...        Epictetus\n",
       "2     There is only one way to happiness and that is...        Epictetus\n",
       "3     Man is not worried by real problems so much as...        Epictetus\n",
       "4     First say to yourself what you would be; and t...        Epictetus\n",
       "...                                                 ...              ...\n",
       "1768           It is royal to do good and to be abused.  Marcus Aurelius\n",
       "1769  Things?—I was once a fortunate man, but I lost...  Marcus Aurelius\n",
       "1770  Even chance is not divorced from nature, from ...  Marcus Aurelius\n",
       "1771  Be not either a man of many words, or busy abo...  Marcus Aurelius\n",
       "1772  But death and life, success and failure, pain ...  Marcus Aurelius\n",
       "\n",
       "[1730 rows x 2 columns]"
      ]
     },
     "execution_count": 10,
     "metadata": {},
     "output_type": "execute_result"
    }
   ],
   "source": [
    "df = df[df[\"author\"] != \"Cleanthes\"]\n",
    "# df[\"author\"].value_counts()\n",
    "df"
   ]
  },
  {
   "cell_type": "code",
   "execution_count": 11,
   "id": "2a08a85a-6293-461c-b65d-072fae232312",
   "metadata": {},
   "outputs": [
    {
     "data": {
      "text/plain": [
       "author\n",
       "Seneca             747\n",
       "Marcus Aurelius    681\n",
       "Epictetus          302\n",
       "Name: count, dtype: int64"
      ]
     },
     "execution_count": 11,
     "metadata": {},
     "output_type": "execute_result"
    }
   ],
   "source": [
    "df[\"author\"].value_counts()"
   ]
  },
  {
   "cell_type": "code",
   "execution_count": 12,
   "id": "e62401c6-2a34-4390-b9b5-59840913340a",
   "metadata": {},
   "outputs": [],
   "source": [
    "df.to_csv('cleanData.csv', index=False)\n"
   ]
  }
 ],
 "metadata": {
  "kernelspec": {
   "display_name": "Python 3 (ipykernel)",
   "language": "python",
   "name": "python3"
  },
  "language_info": {
   "codemirror_mode": {
    "name": "ipython",
    "version": 3
   },
   "file_extension": ".py",
   "mimetype": "text/x-python",
   "name": "python",
   "nbconvert_exporter": "python",
   "pygments_lexer": "ipython3",
   "version": "3.8.16"
  }
 },
 "nbformat": 4,
 "nbformat_minor": 5
}
